{
 "cells": [
  {
   "cell_type": "code",
   "execution_count": 135,
   "metadata": {},
   "outputs": [],
   "source": [
    "import pandas as pd\n",
    "import numpy as np\n",
    "import seaborn as sns\n",
    "import matplotlib.pyplot as plt\n",
    "import sklearn\n",
    "from sklearn.linear_model import LinearRegression as LR\n",
    "from sklearn.metrics import mean_squared_error, mean_absolute_error, r2_score\n",
    "from sklearn.model_selection import train_test_split\n",
    "\n",
    "#Cross validation libraries\n",
    "from sklearn.model_selection import cross_val_score\n",
    "from sklearn.model_selection import cross_val_predict\n",
    "from sklearn.metrics import confusion_matrix\n",
    "\n",
    "import warnings\n",
    "\n",
    "warnings.filterwarnings('ignore')\n",
    "%matplotlib inline"
   ]
  },
  {
   "cell_type": "code",
   "execution_count": 84,
   "metadata": {},
   "outputs": [
    {
     "data": {
      "text/html": [
       "<div>\n",
       "<style scoped>\n",
       "    .dataframe tbody tr th:only-of-type {\n",
       "        vertical-align: middle;\n",
       "    }\n",
       "\n",
       "    .dataframe tbody tr th {\n",
       "        vertical-align: top;\n",
       "    }\n",
       "\n",
       "    .dataframe thead th {\n",
       "        text-align: right;\n",
       "    }\n",
       "</style>\n",
       "<table border=\"1\" class=\"dataframe\">\n",
       "  <thead>\n",
       "    <tr style=\"text-align: right;\">\n",
       "      <th></th>\n",
       "      <th>Name</th>\n",
       "      <th>Team</th>\n",
       "      <th>Number</th>\n",
       "      <th>Position</th>\n",
       "      <th>Age</th>\n",
       "      <th>DOJ</th>\n",
       "      <th>Weight</th>\n",
       "      <th>College</th>\n",
       "      <th>Salary</th>\n",
       "    </tr>\n",
       "  </thead>\n",
       "  <tbody>\n",
       "    <tr>\n",
       "      <td>0</td>\n",
       "      <td>Avery Bradley</td>\n",
       "      <td>Boston Celtics</td>\n",
       "      <td>0</td>\n",
       "      <td>PG</td>\n",
       "      <td>25</td>\n",
       "      <td>06-Feb</td>\n",
       "      <td>180</td>\n",
       "      <td>Texas</td>\n",
       "      <td>7730337.0</td>\n",
       "    </tr>\n",
       "    <tr>\n",
       "      <td>1</td>\n",
       "      <td>Jae Crowder</td>\n",
       "      <td>Boston Celtics</td>\n",
       "      <td>99</td>\n",
       "      <td>SF</td>\n",
       "      <td>25</td>\n",
       "      <td>06-Jun</td>\n",
       "      <td>235</td>\n",
       "      <td>Marquette</td>\n",
       "      <td>6796117.0</td>\n",
       "    </tr>\n",
       "    <tr>\n",
       "      <td>2</td>\n",
       "      <td>John Holland</td>\n",
       "      <td>Boston Celtics</td>\n",
       "      <td>30</td>\n",
       "      <td>SG</td>\n",
       "      <td>27</td>\n",
       "      <td>06-May</td>\n",
       "      <td>205</td>\n",
       "      <td>Boston University</td>\n",
       "      <td>NaN</td>\n",
       "    </tr>\n",
       "    <tr>\n",
       "      <td>3</td>\n",
       "      <td>R.J. Hunter</td>\n",
       "      <td>Boston Celtics</td>\n",
       "      <td>28</td>\n",
       "      <td>SG</td>\n",
       "      <td>22</td>\n",
       "      <td>06-May</td>\n",
       "      <td>185</td>\n",
       "      <td>Georgia State</td>\n",
       "      <td>1148640.0</td>\n",
       "    </tr>\n",
       "    <tr>\n",
       "      <td>4</td>\n",
       "      <td>Jonas Jerebko</td>\n",
       "      <td>Boston Celtics</td>\n",
       "      <td>8</td>\n",
       "      <td>PF</td>\n",
       "      <td>29</td>\n",
       "      <td>06-Oct</td>\n",
       "      <td>231</td>\n",
       "      <td>NaN</td>\n",
       "      <td>5000000.0</td>\n",
       "    </tr>\n",
       "    <tr>\n",
       "      <td>...</td>\n",
       "      <td>...</td>\n",
       "      <td>...</td>\n",
       "      <td>...</td>\n",
       "      <td>...</td>\n",
       "      <td>...</td>\n",
       "      <td>...</td>\n",
       "      <td>...</td>\n",
       "      <td>...</td>\n",
       "      <td>...</td>\n",
       "    </tr>\n",
       "    <tr>\n",
       "      <td>452</td>\n",
       "      <td>Trey Lyles</td>\n",
       "      <td>Utah Jazz</td>\n",
       "      <td>41</td>\n",
       "      <td>PF</td>\n",
       "      <td>20</td>\n",
       "      <td>06-Oct</td>\n",
       "      <td>234</td>\n",
       "      <td>Kentucky</td>\n",
       "      <td>2239800.0</td>\n",
       "    </tr>\n",
       "    <tr>\n",
       "      <td>453</td>\n",
       "      <td>Shelvin Mack</td>\n",
       "      <td>Utah Jazz</td>\n",
       "      <td>8</td>\n",
       "      <td>PG</td>\n",
       "      <td>26</td>\n",
       "      <td>06-Mar</td>\n",
       "      <td>203</td>\n",
       "      <td>Butler</td>\n",
       "      <td>2433333.0</td>\n",
       "    </tr>\n",
       "    <tr>\n",
       "      <td>454</td>\n",
       "      <td>Raul Neto</td>\n",
       "      <td>Utah Jazz</td>\n",
       "      <td>25</td>\n",
       "      <td>PG</td>\n",
       "      <td>24</td>\n",
       "      <td>06-Jan</td>\n",
       "      <td>179</td>\n",
       "      <td>NaN</td>\n",
       "      <td>900000.0</td>\n",
       "    </tr>\n",
       "    <tr>\n",
       "      <td>455</td>\n",
       "      <td>Tibor Pleiss</td>\n",
       "      <td>Utah Jazz</td>\n",
       "      <td>21</td>\n",
       "      <td>C</td>\n",
       "      <td>26</td>\n",
       "      <td>07-Mar</td>\n",
       "      <td>256</td>\n",
       "      <td>NaN</td>\n",
       "      <td>2900000.0</td>\n",
       "    </tr>\n",
       "    <tr>\n",
       "      <td>456</td>\n",
       "      <td>Jeff Withey</td>\n",
       "      <td>Utah Jazz</td>\n",
       "      <td>24</td>\n",
       "      <td>C</td>\n",
       "      <td>26</td>\n",
       "      <td>7-0</td>\n",
       "      <td>231</td>\n",
       "      <td>Kansas</td>\n",
       "      <td>947276.0</td>\n",
       "    </tr>\n",
       "  </tbody>\n",
       "</table>\n",
       "<p>457 rows × 9 columns</p>\n",
       "</div>"
      ],
      "text/plain": [
       "              Name            Team  Number Position  Age     DOJ  Weight  \\\n",
       "0    Avery Bradley  Boston Celtics       0       PG   25  06-Feb     180   \n",
       "1      Jae Crowder  Boston Celtics      99       SF   25  06-Jun     235   \n",
       "2     John Holland  Boston Celtics      30       SG   27  06-May     205   \n",
       "3      R.J. Hunter  Boston Celtics      28       SG   22  06-May     185   \n",
       "4    Jonas Jerebko  Boston Celtics       8       PF   29  06-Oct     231   \n",
       "..             ...             ...     ...      ...  ...     ...     ...   \n",
       "452     Trey Lyles       Utah Jazz      41       PF   20  06-Oct     234   \n",
       "453   Shelvin Mack       Utah Jazz       8       PG   26  06-Mar     203   \n",
       "454      Raul Neto       Utah Jazz      25       PG   24  06-Jan     179   \n",
       "455   Tibor Pleiss       Utah Jazz      21        C   26  07-Mar     256   \n",
       "456    Jeff Withey       Utah Jazz      24        C   26     7-0     231   \n",
       "\n",
       "               College     Salary  \n",
       "0                Texas  7730337.0  \n",
       "1            Marquette  6796117.0  \n",
       "2    Boston University        NaN  \n",
       "3        Georgia State  1148640.0  \n",
       "4                  NaN  5000000.0  \n",
       "..                 ...        ...  \n",
       "452           Kentucky  2239800.0  \n",
       "453             Butler  2433333.0  \n",
       "454                NaN   900000.0  \n",
       "455                NaN  2900000.0  \n",
       "456             Kansas   947276.0  \n",
       "\n",
       "[457 rows x 9 columns]"
      ]
     },
     "execution_count": 84,
     "metadata": {},
     "output_type": "execute_result"
    }
   ],
   "source": [
    "#importing with csv\n",
    "csvdata = pd.read_csv('salary_data.csv')\n",
    "csvdata"
   ]
  },
  {
   "cell_type": "code",
   "execution_count": 85,
   "metadata": {},
   "outputs": [],
   "source": [
    "#importing dataset using mysql\n",
    "\n",
    "#!pip install mysql-connector-python"
   ]
  },
  {
   "cell_type": "code",
   "execution_count": 86,
   "metadata": {},
   "outputs": [],
   "source": [
    "import mysql.connector"
   ]
  },
  {
   "cell_type": "code",
   "execution_count": 87,
   "metadata": {},
   "outputs": [
    {
     "data": {
      "text/html": [
       "<div>\n",
       "<style scoped>\n",
       "    .dataframe tbody tr th:only-of-type {\n",
       "        vertical-align: middle;\n",
       "    }\n",
       "\n",
       "    .dataframe tbody tr th {\n",
       "        vertical-align: top;\n",
       "    }\n",
       "\n",
       "    .dataframe thead th {\n",
       "        text-align: right;\n",
       "    }\n",
       "</style>\n",
       "<table border=\"1\" class=\"dataframe\">\n",
       "  <thead>\n",
       "    <tr style=\"text-align: right;\">\n",
       "      <th></th>\n",
       "      <th>Name</th>\n",
       "      <th>Team</th>\n",
       "      <th>Number</th>\n",
       "      <th>Position</th>\n",
       "      <th>Age</th>\n",
       "      <th>DOJ</th>\n",
       "      <th>Weight</th>\n",
       "      <th>College</th>\n",
       "      <th>Salary</th>\n",
       "    </tr>\n",
       "  </thead>\n",
       "  <tbody>\n",
       "    <tr>\n",
       "      <td>0</td>\n",
       "      <td>Aaron Brooks</td>\n",
       "      <td>Chicago Bulls</td>\n",
       "      <td>0</td>\n",
       "      <td>PG</td>\n",
       "      <td>31</td>\n",
       "      <td>6-0</td>\n",
       "      <td>161</td>\n",
       "      <td>Oregon</td>\n",
       "      <td>2250000.0</td>\n",
       "    </tr>\n",
       "    <tr>\n",
       "      <td>1</td>\n",
       "      <td>Aaron Gordon</td>\n",
       "      <td>Orlando Magic</td>\n",
       "      <td>0</td>\n",
       "      <td>PF</td>\n",
       "      <td>20</td>\n",
       "      <td>06-Sep</td>\n",
       "      <td>220</td>\n",
       "      <td>Arizona</td>\n",
       "      <td>4171680.0</td>\n",
       "    </tr>\n",
       "    <tr>\n",
       "      <td>2</td>\n",
       "      <td>Aaron Harrison</td>\n",
       "      <td>Charlotte Hornets</td>\n",
       "      <td>9</td>\n",
       "      <td>SG</td>\n",
       "      <td>21</td>\n",
       "      <td>06-Jun</td>\n",
       "      <td>210</td>\n",
       "      <td>Kentucky</td>\n",
       "      <td>525093.0</td>\n",
       "    </tr>\n",
       "    <tr>\n",
       "      <td>3</td>\n",
       "      <td>Adreian Payne</td>\n",
       "      <td>Minnesota Timberwolves</td>\n",
       "      <td>33</td>\n",
       "      <td>PF</td>\n",
       "      <td>25</td>\n",
       "      <td>06-Oct</td>\n",
       "      <td>237</td>\n",
       "      <td>Michigan State</td>\n",
       "      <td>1938840.0</td>\n",
       "    </tr>\n",
       "    <tr>\n",
       "      <td>4</td>\n",
       "      <td>Al Horford</td>\n",
       "      <td>Atlanta Hawks</td>\n",
       "      <td>15</td>\n",
       "      <td>C</td>\n",
       "      <td>30</td>\n",
       "      <td>06-Oct</td>\n",
       "      <td>245</td>\n",
       "      <td>Florida</td>\n",
       "      <td>12000000.0</td>\n",
       "    </tr>\n",
       "    <tr>\n",
       "      <td>5</td>\n",
       "      <td>Al Jefferson</td>\n",
       "      <td>Charlotte Hornets</td>\n",
       "      <td>25</td>\n",
       "      <td>C</td>\n",
       "      <td>31</td>\n",
       "      <td>06-Oct</td>\n",
       "      <td>289</td>\n",
       "      <td>None</td>\n",
       "      <td>13500000.0</td>\n",
       "    </tr>\n",
       "    <tr>\n",
       "      <td>6</td>\n",
       "      <td>Al-Farouq Aminu</td>\n",
       "      <td>Portland Trail Blazers</td>\n",
       "      <td>8</td>\n",
       "      <td>SF</td>\n",
       "      <td>25</td>\n",
       "      <td>06-Sep</td>\n",
       "      <td>215</td>\n",
       "      <td>Wake Forest</td>\n",
       "      <td>8042895.0</td>\n",
       "    </tr>\n",
       "    <tr>\n",
       "      <td>7</td>\n",
       "      <td>Alan Anderson</td>\n",
       "      <td>Washington Wizards</td>\n",
       "      <td>6</td>\n",
       "      <td>SG</td>\n",
       "      <td>33</td>\n",
       "      <td>06-Jun</td>\n",
       "      <td>220</td>\n",
       "      <td>Michigan State</td>\n",
       "      <td>4000000.0</td>\n",
       "    </tr>\n",
       "    <tr>\n",
       "      <td>8</td>\n",
       "      <td>Alan Williams</td>\n",
       "      <td>Phoenix Suns</td>\n",
       "      <td>15</td>\n",
       "      <td>C</td>\n",
       "      <td>23</td>\n",
       "      <td>06-Aug</td>\n",
       "      <td>260</td>\n",
       "      <td>UC Santa Barbara</td>\n",
       "      <td>83397.0</td>\n",
       "    </tr>\n",
       "    <tr>\n",
       "      <td>9</td>\n",
       "      <td>Alec Burks</td>\n",
       "      <td>Utah Jazz</td>\n",
       "      <td>10</td>\n",
       "      <td>SG</td>\n",
       "      <td>24</td>\n",
       "      <td>06-Jun</td>\n",
       "      <td>214</td>\n",
       "      <td>Colorado</td>\n",
       "      <td>9463484.0</td>\n",
       "    </tr>\n",
       "    <tr>\n",
       "      <td>10</td>\n",
       "      <td>Alex Len</td>\n",
       "      <td>Phoenix Suns</td>\n",
       "      <td>21</td>\n",
       "      <td>C</td>\n",
       "      <td>22</td>\n",
       "      <td>07-Jan</td>\n",
       "      <td>260</td>\n",
       "      <td>Maryland</td>\n",
       "      <td>3807120.0</td>\n",
       "    </tr>\n",
       "    <tr>\n",
       "      <td>11</td>\n",
       "      <td>Alex Stepheson</td>\n",
       "      <td>Memphis Grizzlies</td>\n",
       "      <td>35</td>\n",
       "      <td>PF</td>\n",
       "      <td>28</td>\n",
       "      <td>06-Oct</td>\n",
       "      <td>270</td>\n",
       "      <td>USC</td>\n",
       "      <td>NaN</td>\n",
       "    </tr>\n",
       "    <tr>\n",
       "      <td>12</td>\n",
       "      <td>Alexis Ajinca</td>\n",
       "      <td>New Orleans Pelicans</td>\n",
       "      <td>42</td>\n",
       "      <td>C</td>\n",
       "      <td>28</td>\n",
       "      <td>07-Feb</td>\n",
       "      <td>248</td>\n",
       "      <td>None</td>\n",
       "      <td>4389607.0</td>\n",
       "    </tr>\n",
       "    <tr>\n",
       "      <td>13</td>\n",
       "      <td>Allen Crabbe</td>\n",
       "      <td>Portland Trail Blazers</td>\n",
       "      <td>23</td>\n",
       "      <td>SG</td>\n",
       "      <td>24</td>\n",
       "      <td>06-Jun</td>\n",
       "      <td>210</td>\n",
       "      <td>California</td>\n",
       "      <td>947276.0</td>\n",
       "    </tr>\n",
       "    <tr>\n",
       "      <td>14</td>\n",
       "      <td>Alonzo Gee</td>\n",
       "      <td>New Orleans Pelicans</td>\n",
       "      <td>15</td>\n",
       "      <td>SF</td>\n",
       "      <td>29</td>\n",
       "      <td>06-Jun</td>\n",
       "      <td>225</td>\n",
       "      <td>Alabama</td>\n",
       "      <td>1320000.0</td>\n",
       "    </tr>\n",
       "    <tr>\n",
       "      <td>15</td>\n",
       "      <td>Amar'e Stoudemire</td>\n",
       "      <td>Miami Heat</td>\n",
       "      <td>5</td>\n",
       "      <td>PF</td>\n",
       "      <td>33</td>\n",
       "      <td>06-Oct</td>\n",
       "      <td>245</td>\n",
       "      <td>None</td>\n",
       "      <td>947276.0</td>\n",
       "    </tr>\n",
       "    <tr>\n",
       "      <td>16</td>\n",
       "      <td>Amir Johnson</td>\n",
       "      <td>Boston Celtics</td>\n",
       "      <td>90</td>\n",
       "      <td>PF</td>\n",
       "      <td>29</td>\n",
       "      <td>06-Sep</td>\n",
       "      <td>240</td>\n",
       "      <td>None</td>\n",
       "      <td>12000000.0</td>\n",
       "    </tr>\n",
       "    <tr>\n",
       "      <td>17</td>\n",
       "      <td>Anderson Varejao</td>\n",
       "      <td>Golden State Warriors</td>\n",
       "      <td>18</td>\n",
       "      <td>PF</td>\n",
       "      <td>33</td>\n",
       "      <td>06-Nov</td>\n",
       "      <td>273</td>\n",
       "      <td>None</td>\n",
       "      <td>289755.0</td>\n",
       "    </tr>\n",
       "    <tr>\n",
       "      <td>18</td>\n",
       "      <td>Andre Drummond</td>\n",
       "      <td>Detroit Pistons</td>\n",
       "      <td>0</td>\n",
       "      <td>C</td>\n",
       "      <td>22</td>\n",
       "      <td>06-Nov</td>\n",
       "      <td>279</td>\n",
       "      <td>Connecticut</td>\n",
       "      <td>3272091.0</td>\n",
       "    </tr>\n",
       "    <tr>\n",
       "      <td>19</td>\n",
       "      <td>Andre Iguodala</td>\n",
       "      <td>Golden State Warriors</td>\n",
       "      <td>9</td>\n",
       "      <td>SF</td>\n",
       "      <td>32</td>\n",
       "      <td>06-Jun</td>\n",
       "      <td>215</td>\n",
       "      <td>Arizona</td>\n",
       "      <td>11710456.0</td>\n",
       "    </tr>\n",
       "  </tbody>\n",
       "</table>\n",
       "</div>"
      ],
      "text/plain": [
       "                 Name                    Team  Number Position  Age     DOJ  \\\n",
       "0        Aaron Brooks           Chicago Bulls       0       PG   31     6-0   \n",
       "1        Aaron Gordon           Orlando Magic       0       PF   20  06-Sep   \n",
       "2      Aaron Harrison       Charlotte Hornets       9       SG   21  06-Jun   \n",
       "3       Adreian Payne  Minnesota Timberwolves      33       PF   25  06-Oct   \n",
       "4          Al Horford           Atlanta Hawks      15        C   30  06-Oct   \n",
       "5        Al Jefferson       Charlotte Hornets      25        C   31  06-Oct   \n",
       "6     Al-Farouq Aminu  Portland Trail Blazers       8       SF   25  06-Sep   \n",
       "7       Alan Anderson      Washington Wizards       6       SG   33  06-Jun   \n",
       "8       Alan Williams            Phoenix Suns      15        C   23  06-Aug   \n",
       "9          Alec Burks               Utah Jazz      10       SG   24  06-Jun   \n",
       "10           Alex Len            Phoenix Suns      21        C   22  07-Jan   \n",
       "11     Alex Stepheson       Memphis Grizzlies      35       PF   28  06-Oct   \n",
       "12      Alexis Ajinca    New Orleans Pelicans      42        C   28  07-Feb   \n",
       "13       Allen Crabbe  Portland Trail Blazers      23       SG   24  06-Jun   \n",
       "14         Alonzo Gee    New Orleans Pelicans      15       SF   29  06-Jun   \n",
       "15  Amar'e Stoudemire              Miami Heat       5       PF   33  06-Oct   \n",
       "16       Amir Johnson          Boston Celtics      90       PF   29  06-Sep   \n",
       "17   Anderson Varejao   Golden State Warriors      18       PF   33  06-Nov   \n",
       "18     Andre Drummond         Detroit Pistons       0        C   22  06-Nov   \n",
       "19     Andre Iguodala   Golden State Warriors       9       SF   32  06-Jun   \n",
       "\n",
       "    Weight           College      Salary  \n",
       "0      161            Oregon   2250000.0  \n",
       "1      220           Arizona   4171680.0  \n",
       "2      210          Kentucky    525093.0  \n",
       "3      237    Michigan State   1938840.0  \n",
       "4      245           Florida  12000000.0  \n",
       "5      289              None  13500000.0  \n",
       "6      215       Wake Forest   8042895.0  \n",
       "7      220    Michigan State   4000000.0  \n",
       "8      260  UC Santa Barbara     83397.0  \n",
       "9      214          Colorado   9463484.0  \n",
       "10     260          Maryland   3807120.0  \n",
       "11     270               USC         NaN  \n",
       "12     248              None   4389607.0  \n",
       "13     210        California    947276.0  \n",
       "14     225           Alabama   1320000.0  \n",
       "15     245              None    947276.0  \n",
       "16     240              None  12000000.0  \n",
       "17     273              None    289755.0  \n",
       "18     279       Connecticut   3272091.0  \n",
       "19     215           Arizona  11710456.0  "
      ]
     },
     "execution_count": 87,
     "metadata": {},
     "output_type": "execute_result"
    }
   ],
   "source": [
    "#Comment this block if sql server not connected\n",
    "\n",
    "import pandas as pd\n",
    "con = mysql.connector.connect(\n",
    "    host=\"localhost\",\n",
    "    port=3306,\n",
    "    user = \"root\",\n",
    "    password=\"root1234\",\n",
    "    database = \"ml_dataset\"\n",
    ")\n",
    "\n",
    "sqldata = pd.read_sql_query(\"SELECT * FROM salary_dataset\",con)\n",
    "sqldata\n",
    "sqldata.head(20)"
   ]
  },
  {
   "cell_type": "code",
   "execution_count": 88,
   "metadata": {},
   "outputs": [
    {
     "data": {
      "text/plain": [
       "4113"
      ]
     },
     "execution_count": 88,
     "metadata": {},
     "output_type": "execute_result"
    }
   ],
   "source": [
    "csvdata.size"
   ]
  },
  {
   "cell_type": "code",
   "execution_count": 89,
   "metadata": {},
   "outputs": [
    {
     "data": {
      "text/plain": [
       "4113"
      ]
     },
     "execution_count": 89,
     "metadata": {},
     "output_type": "execute_result"
    }
   ],
   "source": [
    "sqldata.size"
   ]
  },
  {
   "cell_type": "code",
   "execution_count": 90,
   "metadata": {},
   "outputs": [
    {
     "data": {
      "text/plain": [
       "(457, 9)"
      ]
     },
     "execution_count": 90,
     "metadata": {},
     "output_type": "execute_result"
    }
   ],
   "source": [
    "csvdata.shape"
   ]
  },
  {
   "cell_type": "code",
   "execution_count": 91,
   "metadata": {},
   "outputs": [
    {
     "data": {
      "text/plain": [
       "(457, 9)"
      ]
     },
     "execution_count": 91,
     "metadata": {},
     "output_type": "execute_result"
    }
   ],
   "source": [
    "sqldata.shape"
   ]
  },
  {
   "cell_type": "code",
   "execution_count": 92,
   "metadata": {},
   "outputs": [],
   "source": [
    "data = sqldata #----> comment if sql not connected\n",
    "#data = csvdata #----> comment if fetching from sql"
   ]
  },
  {
   "cell_type": "code",
   "execution_count": 93,
   "metadata": {},
   "outputs": [
    {
     "data": {
      "text/html": [
       "<div>\n",
       "<style scoped>\n",
       "    .dataframe tbody tr th:only-of-type {\n",
       "        vertical-align: middle;\n",
       "    }\n",
       "\n",
       "    .dataframe tbody tr th {\n",
       "        vertical-align: top;\n",
       "    }\n",
       "\n",
       "    .dataframe thead th {\n",
       "        text-align: right;\n",
       "    }\n",
       "</style>\n",
       "<table border=\"1\" class=\"dataframe\">\n",
       "  <thead>\n",
       "    <tr style=\"text-align: right;\">\n",
       "      <th></th>\n",
       "      <th>Name</th>\n",
       "      <th>Team</th>\n",
       "      <th>Number</th>\n",
       "      <th>Position</th>\n",
       "      <th>Age</th>\n",
       "      <th>DOJ</th>\n",
       "      <th>Weight</th>\n",
       "      <th>College</th>\n",
       "      <th>Salary</th>\n",
       "    </tr>\n",
       "  </thead>\n",
       "  <tbody>\n",
       "    <tr>\n",
       "      <td>0</td>\n",
       "      <td>Aaron Brooks</td>\n",
       "      <td>Chicago Bulls</td>\n",
       "      <td>0</td>\n",
       "      <td>PG</td>\n",
       "      <td>31</td>\n",
       "      <td>6-0</td>\n",
       "      <td>161</td>\n",
       "      <td>Oregon</td>\n",
       "      <td>2250000.0</td>\n",
       "    </tr>\n",
       "    <tr>\n",
       "      <td>1</td>\n",
       "      <td>Aaron Gordon</td>\n",
       "      <td>Orlando Magic</td>\n",
       "      <td>0</td>\n",
       "      <td>PF</td>\n",
       "      <td>20</td>\n",
       "      <td>06-Sep</td>\n",
       "      <td>220</td>\n",
       "      <td>Arizona</td>\n",
       "      <td>4171680.0</td>\n",
       "    </tr>\n",
       "    <tr>\n",
       "      <td>2</td>\n",
       "      <td>Aaron Harrison</td>\n",
       "      <td>Charlotte Hornets</td>\n",
       "      <td>9</td>\n",
       "      <td>SG</td>\n",
       "      <td>21</td>\n",
       "      <td>06-Jun</td>\n",
       "      <td>210</td>\n",
       "      <td>Kentucky</td>\n",
       "      <td>525093.0</td>\n",
       "    </tr>\n",
       "    <tr>\n",
       "      <td>3</td>\n",
       "      <td>Adreian Payne</td>\n",
       "      <td>Minnesota Timberwolves</td>\n",
       "      <td>33</td>\n",
       "      <td>PF</td>\n",
       "      <td>25</td>\n",
       "      <td>06-Oct</td>\n",
       "      <td>237</td>\n",
       "      <td>Michigan State</td>\n",
       "      <td>1938840.0</td>\n",
       "    </tr>\n",
       "    <tr>\n",
       "      <td>4</td>\n",
       "      <td>Al Horford</td>\n",
       "      <td>Atlanta Hawks</td>\n",
       "      <td>15</td>\n",
       "      <td>C</td>\n",
       "      <td>30</td>\n",
       "      <td>06-Oct</td>\n",
       "      <td>245</td>\n",
       "      <td>Florida</td>\n",
       "      <td>12000000.0</td>\n",
       "    </tr>\n",
       "    <tr>\n",
       "      <td>...</td>\n",
       "      <td>...</td>\n",
       "      <td>...</td>\n",
       "      <td>...</td>\n",
       "      <td>...</td>\n",
       "      <td>...</td>\n",
       "      <td>...</td>\n",
       "      <td>...</td>\n",
       "      <td>...</td>\n",
       "      <td>...</td>\n",
       "    </tr>\n",
       "    <tr>\n",
       "      <td>452</td>\n",
       "      <td>Wilson Chandler</td>\n",
       "      <td>Denver Nuggets</td>\n",
       "      <td>21</td>\n",
       "      <td>SF</td>\n",
       "      <td>29</td>\n",
       "      <td>06-Aug</td>\n",
       "      <td>225</td>\n",
       "      <td>DePaul</td>\n",
       "      <td>10449438.0</td>\n",
       "    </tr>\n",
       "    <tr>\n",
       "      <td>453</td>\n",
       "      <td>Xavier Munford</td>\n",
       "      <td>Memphis Grizzlies</td>\n",
       "      <td>14</td>\n",
       "      <td>PG</td>\n",
       "      <td>24</td>\n",
       "      <td>06-Mar</td>\n",
       "      <td>180</td>\n",
       "      <td>Rhode Island</td>\n",
       "      <td>NaN</td>\n",
       "    </tr>\n",
       "    <tr>\n",
       "      <td>454</td>\n",
       "      <td>Zach LaVine</td>\n",
       "      <td>Minnesota Timberwolves</td>\n",
       "      <td>8</td>\n",
       "      <td>PG</td>\n",
       "      <td>21</td>\n",
       "      <td>06-May</td>\n",
       "      <td>189</td>\n",
       "      <td>UCLA</td>\n",
       "      <td>2148360.0</td>\n",
       "    </tr>\n",
       "    <tr>\n",
       "      <td>455</td>\n",
       "      <td>Zach Randolph</td>\n",
       "      <td>Memphis Grizzlies</td>\n",
       "      <td>50</td>\n",
       "      <td>PF</td>\n",
       "      <td>34</td>\n",
       "      <td>06-Sep</td>\n",
       "      <td>260</td>\n",
       "      <td>Michigan State</td>\n",
       "      <td>9638555.0</td>\n",
       "    </tr>\n",
       "    <tr>\n",
       "      <td>456</td>\n",
       "      <td>Zaza Pachulia</td>\n",
       "      <td>Dallas Mavericks</td>\n",
       "      <td>27</td>\n",
       "      <td>C</td>\n",
       "      <td>32</td>\n",
       "      <td>06-Nov</td>\n",
       "      <td>275</td>\n",
       "      <td>None</td>\n",
       "      <td>5200000.0</td>\n",
       "    </tr>\n",
       "  </tbody>\n",
       "</table>\n",
       "<p>457 rows × 9 columns</p>\n",
       "</div>"
      ],
      "text/plain": [
       "                Name                    Team  Number Position  Age     DOJ  \\\n",
       "0       Aaron Brooks           Chicago Bulls       0       PG   31     6-0   \n",
       "1       Aaron Gordon           Orlando Magic       0       PF   20  06-Sep   \n",
       "2     Aaron Harrison       Charlotte Hornets       9       SG   21  06-Jun   \n",
       "3      Adreian Payne  Minnesota Timberwolves      33       PF   25  06-Oct   \n",
       "4         Al Horford           Atlanta Hawks      15        C   30  06-Oct   \n",
       "..               ...                     ...     ...      ...  ...     ...   \n",
       "452  Wilson Chandler          Denver Nuggets      21       SF   29  06-Aug   \n",
       "453   Xavier Munford       Memphis Grizzlies      14       PG   24  06-Mar   \n",
       "454      Zach LaVine  Minnesota Timberwolves       8       PG   21  06-May   \n",
       "455    Zach Randolph       Memphis Grizzlies      50       PF   34  06-Sep   \n",
       "456    Zaza Pachulia        Dallas Mavericks      27        C   32  06-Nov   \n",
       "\n",
       "     Weight         College      Salary  \n",
       "0       161          Oregon   2250000.0  \n",
       "1       220         Arizona   4171680.0  \n",
       "2       210        Kentucky    525093.0  \n",
       "3       237  Michigan State   1938840.0  \n",
       "4       245         Florida  12000000.0  \n",
       "..      ...             ...         ...  \n",
       "452     225          DePaul  10449438.0  \n",
       "453     180    Rhode Island         NaN  \n",
       "454     189            UCLA   2148360.0  \n",
       "455     260  Michigan State   9638555.0  \n",
       "456     275            None   5200000.0  \n",
       "\n",
       "[457 rows x 9 columns]"
      ]
     },
     "execution_count": 93,
     "metadata": {},
     "output_type": "execute_result"
    }
   ],
   "source": [
    "data"
   ]
  },
  {
   "cell_type": "code",
   "execution_count": 94,
   "metadata": {},
   "outputs": [
    {
     "data": {
      "text/html": [
       "<div>\n",
       "<style scoped>\n",
       "    .dataframe tbody tr th:only-of-type {\n",
       "        vertical-align: middle;\n",
       "    }\n",
       "\n",
       "    .dataframe tbody tr th {\n",
       "        vertical-align: top;\n",
       "    }\n",
       "\n",
       "    .dataframe thead th {\n",
       "        text-align: right;\n",
       "    }\n",
       "</style>\n",
       "<table border=\"1\" class=\"dataframe\">\n",
       "  <thead>\n",
       "    <tr style=\"text-align: right;\">\n",
       "      <th></th>\n",
       "      <th>Position</th>\n",
       "    </tr>\n",
       "  </thead>\n",
       "  <tbody>\n",
       "    <tr>\n",
       "      <td>0</td>\n",
       "      <td>PG</td>\n",
       "    </tr>\n",
       "    <tr>\n",
       "      <td>1</td>\n",
       "      <td>PF</td>\n",
       "    </tr>\n",
       "    <tr>\n",
       "      <td>2</td>\n",
       "      <td>SG</td>\n",
       "    </tr>\n",
       "    <tr>\n",
       "      <td>3</td>\n",
       "      <td>C</td>\n",
       "    </tr>\n",
       "    <tr>\n",
       "      <td>4</td>\n",
       "      <td>SF</td>\n",
       "    </tr>\n",
       "  </tbody>\n",
       "</table>\n",
       "</div>"
      ],
      "text/plain": [
       "  Position\n",
       "0       PG\n",
       "1       PF\n",
       "2       SG\n",
       "3        C\n",
       "4       SF"
      ]
     },
     "execution_count": 94,
     "metadata": {},
     "output_type": "execute_result"
    }
   ],
   "source": [
    "res = pd.read_sql_query(\"select distinct(Position) from salary_dataset\",con)\n",
    "res"
   ]
  },
  {
   "cell_type": "code",
   "execution_count": 95,
   "metadata": {},
   "outputs": [
    {
     "data": {
      "text/plain": [
       "Name         object\n",
       "Team         object\n",
       "Number        int64\n",
       "Position     object\n",
       "Age           int64\n",
       "DOJ          object\n",
       "Weight        int64\n",
       "College      object\n",
       "Salary      float64\n",
       "dtype: object"
      ]
     },
     "execution_count": 95,
     "metadata": {},
     "output_type": "execute_result"
    }
   ],
   "source": [
    "data.dtypes"
   ]
  },
  {
   "cell_type": "code",
   "execution_count": 96,
   "metadata": {},
   "outputs": [
    {
     "data": {
      "text/html": [
       "<div>\n",
       "<style scoped>\n",
       "    .dataframe tbody tr th:only-of-type {\n",
       "        vertical-align: middle;\n",
       "    }\n",
       "\n",
       "    .dataframe tbody tr th {\n",
       "        vertical-align: top;\n",
       "    }\n",
       "\n",
       "    .dataframe thead th {\n",
       "        text-align: right;\n",
       "    }\n",
       "</style>\n",
       "<table border=\"1\" class=\"dataframe\">\n",
       "  <thead>\n",
       "    <tr style=\"text-align: right;\">\n",
       "      <th></th>\n",
       "      <th>Name</th>\n",
       "      <th>Team</th>\n",
       "      <th>Number</th>\n",
       "      <th>Position</th>\n",
       "      <th>Age</th>\n",
       "      <th>DOJ</th>\n",
       "      <th>Weight</th>\n",
       "      <th>College</th>\n",
       "      <th>Salary</th>\n",
       "    </tr>\n",
       "  </thead>\n",
       "  <tbody>\n",
       "    <tr>\n",
       "      <td>0</td>\n",
       "      <td>Aaron Brooks</td>\n",
       "      <td>Chicago Bulls</td>\n",
       "      <td>0</td>\n",
       "      <td>PG</td>\n",
       "      <td>31</td>\n",
       "      <td>6-0</td>\n",
       "      <td>161</td>\n",
       "      <td>Oregon</td>\n",
       "      <td>2250000.0</td>\n",
       "    </tr>\n",
       "    <tr>\n",
       "      <td>1</td>\n",
       "      <td>Aaron Gordon</td>\n",
       "      <td>Orlando Magic</td>\n",
       "      <td>0</td>\n",
       "      <td>PF</td>\n",
       "      <td>20</td>\n",
       "      <td>06-Sep</td>\n",
       "      <td>220</td>\n",
       "      <td>Arizona</td>\n",
       "      <td>4171680.0</td>\n",
       "    </tr>\n",
       "    <tr>\n",
       "      <td>2</td>\n",
       "      <td>Aaron Harrison</td>\n",
       "      <td>Charlotte Hornets</td>\n",
       "      <td>9</td>\n",
       "      <td>SG</td>\n",
       "      <td>21</td>\n",
       "      <td>06-Jun</td>\n",
       "      <td>210</td>\n",
       "      <td>Kentucky</td>\n",
       "      <td>525093.0</td>\n",
       "    </tr>\n",
       "    <tr>\n",
       "      <td>3</td>\n",
       "      <td>Adreian Payne</td>\n",
       "      <td>Minnesota Timberwolves</td>\n",
       "      <td>33</td>\n",
       "      <td>PF</td>\n",
       "      <td>25</td>\n",
       "      <td>06-Oct</td>\n",
       "      <td>237</td>\n",
       "      <td>Michigan State</td>\n",
       "      <td>1938840.0</td>\n",
       "    </tr>\n",
       "    <tr>\n",
       "      <td>4</td>\n",
       "      <td>Al Horford</td>\n",
       "      <td>Atlanta Hawks</td>\n",
       "      <td>15</td>\n",
       "      <td>C</td>\n",
       "      <td>30</td>\n",
       "      <td>06-Oct</td>\n",
       "      <td>245</td>\n",
       "      <td>Florida</td>\n",
       "      <td>12000000.0</td>\n",
       "    </tr>\n",
       "    <tr>\n",
       "      <td>...</td>\n",
       "      <td>...</td>\n",
       "      <td>...</td>\n",
       "      <td>...</td>\n",
       "      <td>...</td>\n",
       "      <td>...</td>\n",
       "      <td>...</td>\n",
       "      <td>...</td>\n",
       "      <td>...</td>\n",
       "      <td>...</td>\n",
       "    </tr>\n",
       "    <tr>\n",
       "      <td>452</td>\n",
       "      <td>Wilson Chandler</td>\n",
       "      <td>Denver Nuggets</td>\n",
       "      <td>21</td>\n",
       "      <td>SF</td>\n",
       "      <td>29</td>\n",
       "      <td>06-Aug</td>\n",
       "      <td>225</td>\n",
       "      <td>DePaul</td>\n",
       "      <td>10449438.0</td>\n",
       "    </tr>\n",
       "    <tr>\n",
       "      <td>453</td>\n",
       "      <td>Xavier Munford</td>\n",
       "      <td>Memphis Grizzlies</td>\n",
       "      <td>14</td>\n",
       "      <td>PG</td>\n",
       "      <td>24</td>\n",
       "      <td>06-Mar</td>\n",
       "      <td>180</td>\n",
       "      <td>Rhode Island</td>\n",
       "      <td>NaN</td>\n",
       "    </tr>\n",
       "    <tr>\n",
       "      <td>454</td>\n",
       "      <td>Zach LaVine</td>\n",
       "      <td>Minnesota Timberwolves</td>\n",
       "      <td>8</td>\n",
       "      <td>PG</td>\n",
       "      <td>21</td>\n",
       "      <td>06-May</td>\n",
       "      <td>189</td>\n",
       "      <td>UCLA</td>\n",
       "      <td>2148360.0</td>\n",
       "    </tr>\n",
       "    <tr>\n",
       "      <td>455</td>\n",
       "      <td>Zach Randolph</td>\n",
       "      <td>Memphis Grizzlies</td>\n",
       "      <td>50</td>\n",
       "      <td>PF</td>\n",
       "      <td>34</td>\n",
       "      <td>06-Sep</td>\n",
       "      <td>260</td>\n",
       "      <td>Michigan State</td>\n",
       "      <td>9638555.0</td>\n",
       "    </tr>\n",
       "    <tr>\n",
       "      <td>456</td>\n",
       "      <td>Zaza Pachulia</td>\n",
       "      <td>Dallas Mavericks</td>\n",
       "      <td>27</td>\n",
       "      <td>C</td>\n",
       "      <td>32</td>\n",
       "      <td>06-Nov</td>\n",
       "      <td>275</td>\n",
       "      <td>None</td>\n",
       "      <td>5200000.0</td>\n",
       "    </tr>\n",
       "  </tbody>\n",
       "</table>\n",
       "<p>457 rows × 9 columns</p>\n",
       "</div>"
      ],
      "text/plain": [
       "                Name                    Team  Number Position  Age     DOJ  \\\n",
       "0       Aaron Brooks           Chicago Bulls       0       PG   31     6-0   \n",
       "1       Aaron Gordon           Orlando Magic       0       PF   20  06-Sep   \n",
       "2     Aaron Harrison       Charlotte Hornets       9       SG   21  06-Jun   \n",
       "3      Adreian Payne  Minnesota Timberwolves      33       PF   25  06-Oct   \n",
       "4         Al Horford           Atlanta Hawks      15        C   30  06-Oct   \n",
       "..               ...                     ...     ...      ...  ...     ...   \n",
       "452  Wilson Chandler          Denver Nuggets      21       SF   29  06-Aug   \n",
       "453   Xavier Munford       Memphis Grizzlies      14       PG   24  06-Mar   \n",
       "454      Zach LaVine  Minnesota Timberwolves       8       PG   21  06-May   \n",
       "455    Zach Randolph       Memphis Grizzlies      50       PF   34  06-Sep   \n",
       "456    Zaza Pachulia        Dallas Mavericks      27        C   32  06-Nov   \n",
       "\n",
       "     Weight         College      Salary  \n",
       "0       161          Oregon   2250000.0  \n",
       "1       220         Arizona   4171680.0  \n",
       "2       210        Kentucky    525093.0  \n",
       "3       237  Michigan State   1938840.0  \n",
       "4       245         Florida  12000000.0  \n",
       "..      ...             ...         ...  \n",
       "452     225          DePaul  10449438.0  \n",
       "453     180    Rhode Island         NaN  \n",
       "454     189            UCLA   2148360.0  \n",
       "455     260  Michigan State   9638555.0  \n",
       "456     275            None   5200000.0  \n",
       "\n",
       "[457 rows x 9 columns]"
      ]
     },
     "execution_count": 96,
     "metadata": {},
     "output_type": "execute_result"
    }
   ],
   "source": [
    "df = pd.DataFrame(data)\n",
    "df"
   ]
  },
  {
   "cell_type": "code",
   "execution_count": 97,
   "metadata": {},
   "outputs": [
    {
     "data": {
      "text/plain": [
       "array([ 0,  9, 33, 15, 25,  8,  6, 10, 21, 35, 42, 23,  5, 90, 18, 24, 12,\n",
       "       44, 22,  3,  2, 43, 20,  4, 32, 40, 34, 55, 11, 31, 30, 41,  7,  1,\n",
       "       45, 17, 14, 26, 28, 99, 13, 19, 39, 50, 77, 27, 36, 92, 37, 52, 88,\n",
       "       54, 16], dtype=int64)"
      ]
     },
     "execution_count": 97,
     "metadata": {},
     "output_type": "execute_result"
    }
   ],
   "source": [
    "df['Number'].unique()"
   ]
  },
  {
   "cell_type": "code",
   "execution_count": 98,
   "metadata": {},
   "outputs": [
    {
     "data": {
      "text/plain": [
       "<matplotlib.collections.PathCollection at 0x1d0285d8e48>"
      ]
     },
     "execution_count": 98,
     "metadata": {},
     "output_type": "execute_result"
    },
    {
     "data": {
      "image/png": "[encoded data removed]",
      "text/plain": [
       "<Figure size 432x288 with 1 Axes>"
      ]
     },
     "metadata": {
      "needs_background": "light"
     },
     "output_type": "display_data"
    }
   ],
   "source": [
    "plt.scatter(df['Number'],df['Salary'])"
   ]
  },
  {
   "cell_type": "code",
   "execution_count": 99,
   "metadata": {
    "scrolled": true
   },
   "outputs": [
    {
     "data": {
      "text/plain": [
       "Name         0\n",
       "Team         0\n",
       "Number       0\n",
       "Position     0\n",
       "Age          0\n",
       "DOJ          0\n",
       "Weight       0\n",
       "College     84\n",
       "Salary      11\n",
       "dtype: int64"
      ]
     },
     "execution_count": 99,
     "metadata": {},
     "output_type": "execute_result"
    }
   ],
   "source": [
    "df.isnull().sum()"
   ]
  },
  {
   "cell_type": "code",
   "execution_count": 100,
   "metadata": {},
   "outputs": [
    {
     "data": {
      "text/plain": [
       "<matplotlib.axes._subplots.AxesSubplot at 0x1d02860fe08>"
      ]
     },
     "execution_count": 100,
     "metadata": {},
     "output_type": "execute_result"
    },
    {
     "data": {
      "image/png": "[encoded data removed]",
      "text/plain": [
       "<Figure size 432x288 with 2 Axes>"
      ]
     },
     "metadata": {
      "needs_background": "light"
     },
     "output_type": "display_data"
    }
   ],
   "source": [
    "sns.heatmap(df.isnull())"
   ]
  },
  {
   "cell_type": "code",
   "execution_count": 101,
   "metadata": {},
   "outputs": [],
   "source": [
    "#Removing NaN values from salary \n",
    "\n",
    "df_new = df.dropna(subset=['Salary'])"
   ]
  },
  {
   "cell_type": "code",
   "execution_count": 102,
   "metadata": {},
   "outputs": [
    {
     "data": {
      "text/plain": [
       "(457, 9)"
      ]
     },
     "execution_count": 102,
     "metadata": {},
     "output_type": "execute_result"
    }
   ],
   "source": [
    "df.shape\n"
   ]
  },
  {
   "cell_type": "code",
   "execution_count": 103,
   "metadata": {},
   "outputs": [
    {
     "data": {
      "text/plain": [
       "(446, 9)"
      ]
     },
     "execution_count": 103,
     "metadata": {},
     "output_type": "execute_result"
    }
   ],
   "source": [
    "df_new.shape"
   ]
  },
  {
   "cell_type": "code",
   "execution_count": 104,
   "metadata": {},
   "outputs": [
    {
     "data": {
      "text/plain": [
       "array(['Oregon', 'Arizona', 'Kentucky', 'Michigan State', 'Florida', None,\n",
       "       'Wake Forest', 'UC Santa Barbara', 'Colorado', 'Maryland', 'USC',\n",
       "       'California', 'Alabama', 'Connecticut', 'Utah', 'Charleston',\n",
       "       'St. Bonaventure', 'Kansas', 'Stanford', 'Georgia Tech',\n",
       "       'Creighton', 'Washington State', 'UCLA', 'Duke', 'Texas',\n",
       "       'Oklahoma', 'Arkansas', 'North Carolina', 'LSU', 'Dayton',\n",
       "       'Virginia Commonwealth', 'Providence', 'Iowa State', 'Lehigh',\n",
       "       'Tennessee', 'Washington', 'New Mexico', 'Murray State', 'Purdue',\n",
       "       'Syracuse', 'Blinn College', 'Central Michigan', 'UNLV',\n",
       "       'Wichita State', 'Indiana', 'Western Kentucky', 'Ohio State',\n",
       "       'Weber State', 'Villanova', 'Xavier', 'Texas A&M', 'Missouri',\n",
       "       'Illinois', 'Memphis', 'Wisconsin', 'Iowa', 'Marquette',\n",
       "       'Louisiana-Lafayette', 'Oregon State', 'Vanderbilt', 'IUPUI',\n",
       "       'Michigan', 'Butler', 'Louisville', 'Georgetown', 'Fresno State',\n",
       "       'Marshall', 'Belmont', 'Northeastern', \"St. John's\",\n",
       "       \"Saint Joseph's\", 'Oklahoma State', 'Long Beach State',\n",
       "       'Arizona State', 'Miami (FL)', 'Boston College', 'Virginia Tech',\n",
       "       'Colorado State', 'Rider', 'Nevada', 'Harvard', 'Notre Dame',\n",
       "       'North Carolina State', 'Boston University', 'Houston', 'Virginia',\n",
       "       'Clemson', 'San Diego State', 'Gonzaga', 'Morehead State',\n",
       "       'Old Dominion', 'Georgia', 'Western Carolina', 'Minnesota',\n",
       "       'Norfolk State', 'Pittsburgh', 'Cincinnati', 'Wyoming', 'Temple',\n",
       "       'Westchester CC', \"Saint Mary's\", 'Kansas State', 'Bucknell',\n",
       "       'Cleveland State', 'Louisiana Tech', 'Baylor', 'Georgia State',\n",
       "       'Detroit', 'Bowling Green', 'Tennessee State',\n",
       "       'Eastern Washington', 'Utah Valley', 'Western Michigan',\n",
       "       'Davidson', 'Penn State', 'Florida State', 'Saint Louis', 'DePaul',\n",
       "       'Rhode Island'], dtype=object)"
      ]
     },
     "execution_count": 104,
     "metadata": {},
     "output_type": "execute_result"
    }
   ],
   "source": [
    "df['College'].unique()"
   ]
  },
  {
   "cell_type": "code",
   "execution_count": 105,
   "metadata": {
    "scrolled": true
   },
   "outputs": [
    {
     "data": {
      "text/plain": [
       "[College    Salary   \n",
       " Alabama    845059.0     0.333333\n",
       "            1320000.0    0.333333\n",
       "            2100000.0    0.333333\n",
       " Arizona    947276.0     0.153846\n",
       "            4000000.0    0.153846\n",
       "                           ...   \n",
       " Wisconsin  1646400.0    0.200000\n",
       "            2612520.0    0.200000\n",
       "            4053446.0    0.200000\n",
       " Wyoming    1155600.0    1.000000\n",
       " Xavier     1499187.0    1.000000\n",
       " Name: Salary, Length: 356, dtype: float64]"
      ]
     },
     "execution_count": 105,
     "metadata": {},
     "output_type": "execute_result"
    }
   ],
   "source": [
    "col_sal = ([df_new.groupby('College')[\"Salary\"].value_counts(normalize=True)])\n",
    "col_sal"
   ]
  },
  {
   "cell_type": "code",
   "execution_count": 106,
   "metadata": {},
   "outputs": [
    {
     "data": {
      "text/html": [
       "<div>\n",
       "<style scoped>\n",
       "    .dataframe tbody tr th:only-of-type {\n",
       "        vertical-align: middle;\n",
       "    }\n",
       "\n",
       "    .dataframe tbody tr th {\n",
       "        vertical-align: top;\n",
       "    }\n",
       "\n",
       "    .dataframe thead th {\n",
       "        text-align: right;\n",
       "    }\n",
       "</style>\n",
       "<table border=\"1\" class=\"dataframe\">\n",
       "  <thead>\n",
       "    <tr style=\"text-align: right;\">\n",
       "      <th></th>\n",
       "      <th>Team</th>\n",
       "      <th>Position</th>\n",
       "      <th>Age</th>\n",
       "      <th>DOJ</th>\n",
       "      <th>Weight</th>\n",
       "      <th>Salary</th>\n",
       "    </tr>\n",
       "  </thead>\n",
       "  <tbody>\n",
       "    <tr>\n",
       "      <td>0</td>\n",
       "      <td>Chicago Bulls</td>\n",
       "      <td>PG</td>\n",
       "      <td>31</td>\n",
       "      <td>6-0</td>\n",
       "      <td>161</td>\n",
       "      <td>2250000.0</td>\n",
       "    </tr>\n",
       "    <tr>\n",
       "      <td>1</td>\n",
       "      <td>Orlando Magic</td>\n",
       "      <td>PF</td>\n",
       "      <td>20</td>\n",
       "      <td>06-Sep</td>\n",
       "      <td>220</td>\n",
       "      <td>4171680.0</td>\n",
       "    </tr>\n",
       "    <tr>\n",
       "      <td>2</td>\n",
       "      <td>Charlotte Hornets</td>\n",
       "      <td>SG</td>\n",
       "      <td>21</td>\n",
       "      <td>06-Jun</td>\n",
       "      <td>210</td>\n",
       "      <td>525093.0</td>\n",
       "    </tr>\n",
       "    <tr>\n",
       "      <td>3</td>\n",
       "      <td>Minnesota Timberwolves</td>\n",
       "      <td>PF</td>\n",
       "      <td>25</td>\n",
       "      <td>06-Oct</td>\n",
       "      <td>237</td>\n",
       "      <td>1938840.0</td>\n",
       "    </tr>\n",
       "    <tr>\n",
       "      <td>4</td>\n",
       "      <td>Atlanta Hawks</td>\n",
       "      <td>C</td>\n",
       "      <td>30</td>\n",
       "      <td>06-Oct</td>\n",
       "      <td>245</td>\n",
       "      <td>12000000.0</td>\n",
       "    </tr>\n",
       "  </tbody>\n",
       "</table>\n",
       "</div>"
      ],
      "text/plain": [
       "                     Team Position  Age     DOJ  Weight      Salary\n",
       "0           Chicago Bulls       PG   31     6-0     161   2250000.0\n",
       "1           Orlando Magic       PF   20  06-Sep     220   4171680.0\n",
       "2       Charlotte Hornets       SG   21  06-Jun     210    525093.0\n",
       "3  Minnesota Timberwolves       PF   25  06-Oct     237   1938840.0\n",
       "4           Atlanta Hawks        C   30  06-Oct     245  12000000.0"
      ]
     },
     "execution_count": 106,
     "metadata": {},
     "output_type": "execute_result"
    }
   ],
   "source": [
    "#Droping name and college\n",
    "\n",
    "sdata = df_new.drop(['Name','College','Number'],axis=1)\n",
    "sdata.head()"
   ]
  },
  {
   "cell_type": "code",
   "execution_count": 107,
   "metadata": {},
   "outputs": [],
   "source": [
    "from sklearn.preprocessing import LabelEncoder as LE\n",
    "\n",
    "dlist = ['Team','Position','DOJ']\n",
    "\n",
    "for col in dlist:\n",
    "    sdata[col] = le.fit_transform(sdata[col])"
   ]
  },
  {
   "cell_type": "code",
   "execution_count": 108,
   "metadata": {},
   "outputs": [
    {
     "data": {
      "text/html": [
       "<div>\n",
       "<style scoped>\n",
       "    .dataframe tbody tr th:only-of-type {\n",
       "        vertical-align: middle;\n",
       "    }\n",
       "\n",
       "    .dataframe tbody tr th {\n",
       "        vertical-align: top;\n",
       "    }\n",
       "\n",
       "    .dataframe thead th {\n",
       "        text-align: right;\n",
       "    }\n",
       "</style>\n",
       "<table border=\"1\" class=\"dataframe\">\n",
       "  <thead>\n",
       "    <tr style=\"text-align: right;\">\n",
       "      <th></th>\n",
       "      <th>Team</th>\n",
       "      <th>Position</th>\n",
       "      <th>Age</th>\n",
       "      <th>DOJ</th>\n",
       "      <th>Weight</th>\n",
       "      <th>Salary</th>\n",
       "    </tr>\n",
       "  </thead>\n",
       "  <tbody>\n",
       "    <tr>\n",
       "      <td>0</td>\n",
       "      <td>4</td>\n",
       "      <td>2</td>\n",
       "      <td>31</td>\n",
       "      <td>16</td>\n",
       "      <td>161</td>\n",
       "      <td>2250000.0</td>\n",
       "    </tr>\n",
       "    <tr>\n",
       "      <td>1</td>\n",
       "      <td>21</td>\n",
       "      <td>1</td>\n",
       "      <td>20</td>\n",
       "      <td>12</td>\n",
       "      <td>220</td>\n",
       "      <td>4171680.0</td>\n",
       "    </tr>\n",
       "    <tr>\n",
       "      <td>2</td>\n",
       "      <td>3</td>\n",
       "      <td>4</td>\n",
       "      <td>21</td>\n",
       "      <td>7</td>\n",
       "      <td>210</td>\n",
       "      <td>525093.0</td>\n",
       "    </tr>\n",
       "    <tr>\n",
       "      <td>3</td>\n",
       "      <td>17</td>\n",
       "      <td>1</td>\n",
       "      <td>25</td>\n",
       "      <td>11</td>\n",
       "      <td>237</td>\n",
       "      <td>1938840.0</td>\n",
       "    </tr>\n",
       "    <tr>\n",
       "      <td>4</td>\n",
       "      <td>0</td>\n",
       "      <td>0</td>\n",
       "      <td>30</td>\n",
       "      <td>11</td>\n",
       "      <td>245</td>\n",
       "      <td>12000000.0</td>\n",
       "    </tr>\n",
       "    <tr>\n",
       "      <td>...</td>\n",
       "      <td>...</td>\n",
       "      <td>...</td>\n",
       "      <td>...</td>\n",
       "      <td>...</td>\n",
       "      <td>...</td>\n",
       "      <td>...</td>\n",
       "    </tr>\n",
       "    <tr>\n",
       "      <td>451</td>\n",
       "      <td>2</td>\n",
       "      <td>1</td>\n",
       "      <td>26</td>\n",
       "      <td>11</td>\n",
       "      <td>220</td>\n",
       "      <td>947276.0</td>\n",
       "    </tr>\n",
       "    <tr>\n",
       "      <td>452</td>\n",
       "      <td>7</td>\n",
       "      <td>3</td>\n",
       "      <td>29</td>\n",
       "      <td>3</td>\n",
       "      <td>225</td>\n",
       "      <td>10449438.0</td>\n",
       "    </tr>\n",
       "    <tr>\n",
       "      <td>454</td>\n",
       "      <td>17</td>\n",
       "      <td>2</td>\n",
       "      <td>21</td>\n",
       "      <td>9</td>\n",
       "      <td>189</td>\n",
       "      <td>2148360.0</td>\n",
       "    </tr>\n",
       "    <tr>\n",
       "      <td>455</td>\n",
       "      <td>14</td>\n",
       "      <td>1</td>\n",
       "      <td>34</td>\n",
       "      <td>12</td>\n",
       "      <td>260</td>\n",
       "      <td>9638555.0</td>\n",
       "    </tr>\n",
       "    <tr>\n",
       "      <td>456</td>\n",
       "      <td>6</td>\n",
       "      <td>0</td>\n",
       "      <td>32</td>\n",
       "      <td>10</td>\n",
       "      <td>275</td>\n",
       "      <td>5200000.0</td>\n",
       "    </tr>\n",
       "  </tbody>\n",
       "</table>\n",
       "<p>446 rows × 6 columns</p>\n",
       "</div>"
      ],
      "text/plain": [
       "     Team  Position  Age  DOJ  Weight      Salary\n",
       "0       4         2   31   16     161   2250000.0\n",
       "1      21         1   20   12     220   4171680.0\n",
       "2       3         4   21    7     210    525093.0\n",
       "3      17         1   25   11     237   1938840.0\n",
       "4       0         0   30   11     245  12000000.0\n",
       "..    ...       ...  ...  ...     ...         ...\n",
       "451     2         1   26   11     220    947276.0\n",
       "452     7         3   29    3     225  10449438.0\n",
       "454    17         2   21    9     189   2148360.0\n",
       "455    14         1   34   12     260   9638555.0\n",
       "456     6         0   32   10     275   5200000.0\n",
       "\n",
       "[446 rows x 6 columns]"
      ]
     },
     "execution_count": 108,
     "metadata": {},
     "output_type": "execute_result"
    }
   ],
   "source": [
    "sdata"
   ]
  },
  {
   "cell_type": "code",
   "execution_count": 109,
   "metadata": {},
   "outputs": [
    {
     "data": {
      "text/plain": [
       "Team          int32\n",
       "Position      int32\n",
       "Age           int64\n",
       "DOJ           int32\n",
       "Weight        int64\n",
       "Salary      float64\n",
       "dtype: object"
      ]
     },
     "execution_count": 109,
     "metadata": {},
     "output_type": "execute_result"
    }
   ],
   "source": [
    "sdata.dtypes"
   ]
  },
  {
   "cell_type": "code",
   "execution_count": 110,
   "metadata": {},
   "outputs": [
    {
     "data": {
      "text/plain": [
       "<matplotlib.axes._subplots.AxesSubplot at 0x1d028706248>"
      ]
     },
     "execution_count": 110,
     "metadata": {},
     "output_type": "execute_result"
    },
    {
     "data": {
      "image/png": "[encoded data removed]",
      "text/plain": [
       "<Figure size 432x288 with 2 Axes>"
      ]
     },
     "metadata": {
      "needs_background": "light"
     },
     "output_type": "display_data"
    }
   ],
   "source": [
    "sns.heatmap(sdata.corr(),annot=True)"
   ]
  },
  {
   "cell_type": "code",
   "execution_count": 111,
   "metadata": {},
   "outputs": [
    {
     "data": {
      "text/html": [
       "<div>\n",
       "<style scoped>\n",
       "    .dataframe tbody tr th:only-of-type {\n",
       "        vertical-align: middle;\n",
       "    }\n",
       "\n",
       "    .dataframe tbody tr th {\n",
       "        vertical-align: top;\n",
       "    }\n",
       "\n",
       "    .dataframe thead th {\n",
       "        text-align: right;\n",
       "    }\n",
       "</style>\n",
       "<table border=\"1\" class=\"dataframe\">\n",
       "  <thead>\n",
       "    <tr style=\"text-align: right;\">\n",
       "      <th></th>\n",
       "      <th>Team</th>\n",
       "      <th>Position</th>\n",
       "      <th>Age</th>\n",
       "      <th>DOJ</th>\n",
       "      <th>Weight</th>\n",
       "      <th>Salary</th>\n",
       "    </tr>\n",
       "  </thead>\n",
       "  <tbody>\n",
       "    <tr>\n",
       "      <td>count</td>\n",
       "      <td>446.000000</td>\n",
       "      <td>446.000000</td>\n",
       "      <td>446.000000</td>\n",
       "      <td>446.000000</td>\n",
       "      <td>446.000000</td>\n",
       "      <td>4.460000e+02</td>\n",
       "    </tr>\n",
       "    <tr>\n",
       "      <td>mean</td>\n",
       "      <td>14.569507</td>\n",
       "      <td>2.065022</td>\n",
       "      <td>26.919283</td>\n",
       "      <td>8.513453</td>\n",
       "      <td>221.753363</td>\n",
       "      <td>4.842684e+06</td>\n",
       "    </tr>\n",
       "    <tr>\n",
       "      <td>std</td>\n",
       "      <td>8.655887</td>\n",
       "      <td>1.411919</td>\n",
       "      <td>4.398951</td>\n",
       "      <td>4.155792</td>\n",
       "      <td>26.157899</td>\n",
       "      <td>5.229238e+06</td>\n",
       "    </tr>\n",
       "    <tr>\n",
       "      <td>min</td>\n",
       "      <td>0.000000</td>\n",
       "      <td>0.000000</td>\n",
       "      <td>19.000000</td>\n",
       "      <td>0.000000</td>\n",
       "      <td>161.000000</td>\n",
       "      <td>3.088800e+04</td>\n",
       "    </tr>\n",
       "    <tr>\n",
       "      <td>25%</td>\n",
       "      <td>7.000000</td>\n",
       "      <td>1.000000</td>\n",
       "      <td>24.000000</td>\n",
       "      <td>6.000000</td>\n",
       "      <td>200.000000</td>\n",
       "      <td>1.044792e+06</td>\n",
       "    </tr>\n",
       "    <tr>\n",
       "      <td>50%</td>\n",
       "      <td>15.000000</td>\n",
       "      <td>2.000000</td>\n",
       "      <td>26.000000</td>\n",
       "      <td>9.000000</td>\n",
       "      <td>220.000000</td>\n",
       "      <td>2.839073e+06</td>\n",
       "    </tr>\n",
       "    <tr>\n",
       "      <td>75%</td>\n",
       "      <td>22.000000</td>\n",
       "      <td>3.000000</td>\n",
       "      <td>30.000000</td>\n",
       "      <td>11.000000</td>\n",
       "      <td>240.000000</td>\n",
       "      <td>6.500000e+06</td>\n",
       "    </tr>\n",
       "    <tr>\n",
       "      <td>max</td>\n",
       "      <td>29.000000</td>\n",
       "      <td>4.000000</td>\n",
       "      <td>40.000000</td>\n",
       "      <td>17.000000</td>\n",
       "      <td>307.000000</td>\n",
       "      <td>2.500000e+07</td>\n",
       "    </tr>\n",
       "  </tbody>\n",
       "</table>\n",
       "</div>"
      ],
      "text/plain": [
       "             Team    Position         Age         DOJ      Weight  \\\n",
       "count  446.000000  446.000000  446.000000  446.000000  446.000000   \n",
       "mean    14.569507    2.065022   26.919283    8.513453  221.753363   \n",
       "std      8.655887    1.411919    4.398951    4.155792   26.157899   \n",
       "min      0.000000    0.000000   19.000000    0.000000  161.000000   \n",
       "25%      7.000000    1.000000   24.000000    6.000000  200.000000   \n",
       "50%     15.000000    2.000000   26.000000    9.000000  220.000000   \n",
       "75%     22.000000    3.000000   30.000000   11.000000  240.000000   \n",
       "max     29.000000    4.000000   40.000000   17.000000  307.000000   \n",
       "\n",
       "             Salary  \n",
       "count  4.460000e+02  \n",
       "mean   4.842684e+06  \n",
       "std    5.229238e+06  \n",
       "min    3.088800e+04  \n",
       "25%    1.044792e+06  \n",
       "50%    2.839073e+06  \n",
       "75%    6.500000e+06  \n",
       "max    2.500000e+07  "
      ]
     },
     "execution_count": 111,
     "metadata": {},
     "output_type": "execute_result"
    }
   ],
   "source": [
    "sdata.describe()"
   ]
  },
  {
   "cell_type": "code",
   "execution_count": 112,
   "metadata": {},
   "outputs": [],
   "source": [
    "#From above chart we can say that Outliers are present"
   ]
  },
  {
   "cell_type": "code",
   "execution_count": 113,
   "metadata": {},
   "outputs": [
    {
     "data": {
      "text/plain": [
       "Team           AxesSubplot(0.125,0.536818;0.168478x0.343182)\n",
       "Position    AxesSubplot(0.327174,0.536818;0.168478x0.343182)\n",
       "Age         AxesSubplot(0.529348,0.536818;0.168478x0.343182)\n",
       "DOJ         AxesSubplot(0.731522,0.536818;0.168478x0.343182)\n",
       "Weight            AxesSubplot(0.125,0.125;0.168478x0.343182)\n",
       "Salary         AxesSubplot(0.327174,0.125;0.168478x0.343182)\n",
       "dtype: object"
      ]
     },
     "execution_count": 113,
     "metadata": {},
     "output_type": "execute_result"
    },
    {
     "data": {
      "image/png": "[encoded data removed]",
      "text/plain": [
       "<Figure size 432x288 with 8 Axes>"
      ]
     },
     "metadata": {
      "needs_background": "light"
     },
     "output_type": "display_data"
    }
   ],
   "source": [
    "sdata.plot(kind='box',subplots=True,layout=(2,4))"
   ]
  },
  {
   "cell_type": "code",
   "execution_count": 114,
   "metadata": {},
   "outputs": [
    {
     "data": {
      "text/plain": [
       "array([[1.22244855, 0.04610423, 0.9286986 , 1.8034961 , 2.32517099,\n",
       "        0.49636215],\n",
       "       [0.74373832, 0.75515548, 1.57470542, 0.83990309, 0.06710524,\n",
       "        0.12846187],\n",
       "       [1.3381066 , 1.37199827, 1.34712324, 0.36458816, 0.44982825,\n",
       "        0.82659078],\n",
       "       ...,\n",
       "       [0.28110612, 0.04610423, 1.34712324, 0.11720834, 1.25354657,\n",
       "        0.51582084],\n",
       "       [0.06586804, 0.75515548, 1.61144515, 0.83990309, 1.46378679,\n",
       "        0.91815612],\n",
       "       [0.99113245, 1.46420673, 1.15628078, 0.35810659, 2.0378713 ,\n",
       "        0.06840713]])"
      ]
     },
     "execution_count": 114,
     "metadata": {},
     "output_type": "execute_result"
    }
   ],
   "source": [
    "#removing outliers\n",
    "from scipy.stats import zscore\n",
    "z = np.abs(zscore(sdata))\n",
    "z"
   ]
  },
  {
   "cell_type": "code",
   "execution_count": 115,
   "metadata": {},
   "outputs": [],
   "source": [
    "sdata = sdata[(z<3).all(axis=1)]"
   ]
  },
  {
   "cell_type": "code",
   "execution_count": 116,
   "metadata": {},
   "outputs": [
    {
     "data": {
      "text/plain": [
       "Team           AxesSubplot(0.125,0.536818;0.168478x0.343182)\n",
       "Position    AxesSubplot(0.327174,0.536818;0.168478x0.343182)\n",
       "Age         AxesSubplot(0.529348,0.536818;0.168478x0.343182)\n",
       "DOJ         AxesSubplot(0.731522,0.536818;0.168478x0.343182)\n",
       "Weight            AxesSubplot(0.125,0.125;0.168478x0.343182)\n",
       "Salary         AxesSubplot(0.327174,0.125;0.168478x0.343182)\n",
       "dtype: object"
      ]
     },
     "execution_count": 116,
     "metadata": {},
     "output_type": "execute_result"
    },
    {
     "data": {
      "image/png": "[encoded data removed]",
      "text/plain": [
       "<Figure size 432x288 with 8 Axes>"
      ]
     },
     "metadata": {
      "needs_background": "light"
     },
     "output_type": "display_data"
    }
   ],
   "source": [
    "sdata.plot(kind='box',subplots=True,layout=(2,4))"
   ]
  },
  {
   "cell_type": "code",
   "execution_count": 117,
   "metadata": {},
   "outputs": [
    {
     "data": {
      "text/plain": [
       "Team       -0.018341\n",
       "Position   -0.013390\n",
       "Age         0.652221\n",
       "DOJ         0.192458\n",
       "Weight      0.075448\n",
       "Salary      1.487380\n",
       "dtype: float64"
      ]
     },
     "execution_count": 117,
     "metadata": {},
     "output_type": "execute_result"
    }
   ],
   "source": [
    "sdata.skew()"
   ]
  },
  {
   "cell_type": "code",
   "execution_count": 118,
   "metadata": {},
   "outputs": [
    {
     "data": {
      "text/plain": [
       "<matplotlib.axes._subplots.AxesSubplot at 0x1d029cd51c8>"
      ]
     },
     "execution_count": 118,
     "metadata": {},
     "output_type": "execute_result"
    },
    {
     "data": {
      "image/png": "[encoded data removed]",
      "text/plain": [
       "<Figure size 432x288 with 1 Axes>"
      ]
     },
     "metadata": {
      "needs_background": "light"
     },
     "output_type": "display_data"
    }
   ],
   "source": [
    "sdata['Team'].plot.hist()"
   ]
  },
  {
   "cell_type": "code",
   "execution_count": 119,
   "metadata": {},
   "outputs": [
    {
     "data": {
      "text/plain": [
       "<matplotlib.axes._subplots.AxesSubplot at 0x1d029d50bc8>"
      ]
     },
     "execution_count": 119,
     "metadata": {},
     "output_type": "execute_result"
    },
    {
     "data": {
      "image/png": "[encoded data removed]",
      "text/plain": [
       "<Figure size 432x288 with 1 Axes>"
      ]
     },
     "metadata": {
      "needs_background": "light"
     },
     "output_type": "display_data"
    }
   ],
   "source": [
    "sdata['Age'].plot.hist()"
   ]
  },
  {
   "cell_type": "code",
   "execution_count": 120,
   "metadata": {},
   "outputs": [],
   "source": [
    "age_skew = np.sqrt(sdata['Age'])\n",
    "sdata['Age'] = age_skew"
   ]
  },
  {
   "cell_type": "code",
   "execution_count": 121,
   "metadata": {},
   "outputs": [
    {
     "data": {
      "text/plain": [
       "<matplotlib.axes._subplots.AxesSubplot at 0x1d029da7808>"
      ]
     },
     "execution_count": 121,
     "metadata": {},
     "output_type": "execute_result"
    },
    {
     "data": {
      "image/png": "[encoded data removed]",
      "text/plain": [
       "<Figure size 432x288 with 1 Axes>"
      ]
     },
     "metadata": {
      "needs_background": "light"
     },
     "output_type": "display_data"
    }
   ],
   "source": [
    "sdata['Age'].plot.hist()"
   ]
  },
  {
   "cell_type": "code",
   "execution_count": 122,
   "metadata": {},
   "outputs": [
    {
     "data": {
      "text/plain": [
       "<matplotlib.axes._subplots.AxesSubplot at 0x1d025157588>"
      ]
     },
     "execution_count": 122,
     "metadata": {},
     "output_type": "execute_result"
    },
    {
     "data": {
      "image/png": "[encoded data removed]",
      "text/plain": [
       "<Figure size 432x288 with 2 Axes>"
      ]
     },
     "metadata": {
      "needs_background": "light"
     },
     "output_type": "display_data"
    }
   ],
   "source": [
    "sns.heatmap(sdata.corr(),annot=True)"
   ]
  },
  {
   "cell_type": "code",
   "execution_count": 123,
   "metadata": {},
   "outputs": [
    {
     "data": {
      "image/png": "[encoded data removed]",
      "text/plain": [
       "<Figure size 432x288 with 1 Axes>"
      ]
     },
     "metadata": {
      "needs_background": "light"
     },
     "output_type": "display_data"
    }
   ],
   "source": [
    "plt.scatter(sdata['Age'],sdata['Salary'])\n",
    "plt.show()"
   ]
  },
  {
   "cell_type": "code",
   "execution_count": 124,
   "metadata": {},
   "outputs": [
    {
     "data": {
      "text/plain": [
       "<seaborn.axisgrid.PairGrid at 0x1d029f38f88>"
      ]
     },
     "execution_count": 124,
     "metadata": {},
     "output_type": "execute_result"
    },
    {
     "data": {
      "image/png": "[encoded data removed]",
      "text/plain": [
       "<Figure size 1080x1080 with 42 Axes>"
      ]
     },
     "metadata": {
      "needs_background": "light"
     },
     "output_type": "display_data"
    }
   ],
   "source": [
    "sns.pairplot(sdata)"
   ]
  },
  {
   "cell_type": "code",
   "execution_count": 125,
   "metadata": {},
   "outputs": [
    {
     "data": {
      "text/plain": [
       "<matplotlib.collections.PathCollection at 0x1d02b20b988>"
      ]
     },
     "execution_count": 125,
     "metadata": {},
     "output_type": "execute_result"
    },
    {
     "data": {
      "image/png": "[encoded data removed]",
      "text/plain": [
       "<Figure size 432x288 with 1 Axes>"
      ]
     },
     "metadata": {
      "needs_background": "light"
     },
     "output_type": "display_data"
    }
   ],
   "source": [
    "plt.scatter(sdata['Position'],sdata['Salary'])"
   ]
  },
  {
   "cell_type": "code",
   "execution_count": null,
   "metadata": {},
   "outputs": [],
   "source": []
  },
  {
   "cell_type": "markdown",
   "metadata": {},
   "source": [
    "### TRAINING THE MODEL"
   ]
  },
  {
   "cell_type": "code",
   "execution_count": 126,
   "metadata": {},
   "outputs": [
    {
     "data": {
      "text/html": [
       "<div>\n",
       "<style scoped>\n",
       "    .dataframe tbody tr th:only-of-type {\n",
       "        vertical-align: middle;\n",
       "    }\n",
       "\n",
       "    .dataframe tbody tr th {\n",
       "        vertical-align: top;\n",
       "    }\n",
       "\n",
       "    .dataframe thead th {\n",
       "        text-align: right;\n",
       "    }\n",
       "</style>\n",
       "<table border=\"1\" class=\"dataframe\">\n",
       "  <thead>\n",
       "    <tr style=\"text-align: right;\">\n",
       "      <th></th>\n",
       "      <th>Team</th>\n",
       "      <th>Position</th>\n",
       "      <th>Age</th>\n",
       "      <th>DOJ</th>\n",
       "      <th>Weight</th>\n",
       "      <th>Salary</th>\n",
       "    </tr>\n",
       "  </thead>\n",
       "  <tbody>\n",
       "    <tr>\n",
       "      <td>0</td>\n",
       "      <td>4</td>\n",
       "      <td>2</td>\n",
       "      <td>5.567764</td>\n",
       "      <td>16</td>\n",
       "      <td>161</td>\n",
       "      <td>2250000.0</td>\n",
       "    </tr>\n",
       "    <tr>\n",
       "      <td>1</td>\n",
       "      <td>21</td>\n",
       "      <td>1</td>\n",
       "      <td>4.472136</td>\n",
       "      <td>12</td>\n",
       "      <td>220</td>\n",
       "      <td>4171680.0</td>\n",
       "    </tr>\n",
       "    <tr>\n",
       "      <td>2</td>\n",
       "      <td>3</td>\n",
       "      <td>4</td>\n",
       "      <td>4.582576</td>\n",
       "      <td>7</td>\n",
       "      <td>210</td>\n",
       "      <td>525093.0</td>\n",
       "    </tr>\n",
       "    <tr>\n",
       "      <td>3</td>\n",
       "      <td>17</td>\n",
       "      <td>1</td>\n",
       "      <td>5.000000</td>\n",
       "      <td>11</td>\n",
       "      <td>237</td>\n",
       "      <td>1938840.0</td>\n",
       "    </tr>\n",
       "    <tr>\n",
       "      <td>4</td>\n",
       "      <td>0</td>\n",
       "      <td>0</td>\n",
       "      <td>5.477226</td>\n",
       "      <td>11</td>\n",
       "      <td>245</td>\n",
       "      <td>12000000.0</td>\n",
       "    </tr>\n",
       "  </tbody>\n",
       "</table>\n",
       "</div>"
      ],
      "text/plain": [
       "   Team  Position       Age  DOJ  Weight      Salary\n",
       "0     4         2  5.567764   16     161   2250000.0\n",
       "1    21         1  4.472136   12     220   4171680.0\n",
       "2     3         4  4.582576    7     210    525093.0\n",
       "3    17         1  5.000000   11     237   1938840.0\n",
       "4     0         0  5.477226   11     245  12000000.0"
      ]
     },
     "execution_count": 126,
     "metadata": {},
     "output_type": "execute_result"
    }
   ],
   "source": [
    "sdata.head()"
   ]
  },
  {
   "cell_type": "code",
   "execution_count": 127,
   "metadata": {},
   "outputs": [],
   "source": [
    "x = sdata.iloc[:,0:-1]\n",
    "y = sdata.Salary"
   ]
  },
  {
   "cell_type": "code",
   "execution_count": 128,
   "metadata": {},
   "outputs": [
    {
     "data": {
      "text/html": [
       "<div>\n",
       "<style scoped>\n",
       "    .dataframe tbody tr th:only-of-type {\n",
       "        vertical-align: middle;\n",
       "    }\n",
       "\n",
       "    .dataframe tbody tr th {\n",
       "        vertical-align: top;\n",
       "    }\n",
       "\n",
       "    .dataframe thead th {\n",
       "        text-align: right;\n",
       "    }\n",
       "</style>\n",
       "<table border=\"1\" class=\"dataframe\">\n",
       "  <thead>\n",
       "    <tr style=\"text-align: right;\">\n",
       "      <th></th>\n",
       "      <th>Team</th>\n",
       "      <th>Position</th>\n",
       "      <th>Age</th>\n",
       "      <th>DOJ</th>\n",
       "      <th>Weight</th>\n",
       "    </tr>\n",
       "  </thead>\n",
       "  <tbody>\n",
       "    <tr>\n",
       "      <td>0</td>\n",
       "      <td>4</td>\n",
       "      <td>2</td>\n",
       "      <td>5.567764</td>\n",
       "      <td>16</td>\n",
       "      <td>161</td>\n",
       "    </tr>\n",
       "    <tr>\n",
       "      <td>1</td>\n",
       "      <td>21</td>\n",
       "      <td>1</td>\n",
       "      <td>4.472136</td>\n",
       "      <td>12</td>\n",
       "      <td>220</td>\n",
       "    </tr>\n",
       "    <tr>\n",
       "      <td>2</td>\n",
       "      <td>3</td>\n",
       "      <td>4</td>\n",
       "      <td>4.582576</td>\n",
       "      <td>7</td>\n",
       "      <td>210</td>\n",
       "    </tr>\n",
       "    <tr>\n",
       "      <td>3</td>\n",
       "      <td>17</td>\n",
       "      <td>1</td>\n",
       "      <td>5.000000</td>\n",
       "      <td>11</td>\n",
       "      <td>237</td>\n",
       "    </tr>\n",
       "    <tr>\n",
       "      <td>4</td>\n",
       "      <td>0</td>\n",
       "      <td>0</td>\n",
       "      <td>5.477226</td>\n",
       "      <td>11</td>\n",
       "      <td>245</td>\n",
       "    </tr>\n",
       "    <tr>\n",
       "      <td>...</td>\n",
       "      <td>...</td>\n",
       "      <td>...</td>\n",
       "      <td>...</td>\n",
       "      <td>...</td>\n",
       "      <td>...</td>\n",
       "    </tr>\n",
       "    <tr>\n",
       "      <td>451</td>\n",
       "      <td>2</td>\n",
       "      <td>1</td>\n",
       "      <td>5.099020</td>\n",
       "      <td>11</td>\n",
       "      <td>220</td>\n",
       "    </tr>\n",
       "    <tr>\n",
       "      <td>452</td>\n",
       "      <td>7</td>\n",
       "      <td>3</td>\n",
       "      <td>5.385165</td>\n",
       "      <td>3</td>\n",
       "      <td>225</td>\n",
       "    </tr>\n",
       "    <tr>\n",
       "      <td>454</td>\n",
       "      <td>17</td>\n",
       "      <td>2</td>\n",
       "      <td>4.582576</td>\n",
       "      <td>9</td>\n",
       "      <td>189</td>\n",
       "    </tr>\n",
       "    <tr>\n",
       "      <td>455</td>\n",
       "      <td>14</td>\n",
       "      <td>1</td>\n",
       "      <td>5.830952</td>\n",
       "      <td>12</td>\n",
       "      <td>260</td>\n",
       "    </tr>\n",
       "    <tr>\n",
       "      <td>456</td>\n",
       "      <td>6</td>\n",
       "      <td>0</td>\n",
       "      <td>5.656854</td>\n",
       "      <td>10</td>\n",
       "      <td>275</td>\n",
       "    </tr>\n",
       "  </tbody>\n",
       "</table>\n",
       "<p>439 rows × 5 columns</p>\n",
       "</div>"
      ],
      "text/plain": [
       "     Team  Position       Age  DOJ  Weight\n",
       "0       4         2  5.567764   16     161\n",
       "1      21         1  4.472136   12     220\n",
       "2       3         4  4.582576    7     210\n",
       "3      17         1  5.000000   11     237\n",
       "4       0         0  5.477226   11     245\n",
       "..    ...       ...       ...  ...     ...\n",
       "451     2         1  5.099020   11     220\n",
       "452     7         3  5.385165    3     225\n",
       "454    17         2  4.582576    9     189\n",
       "455    14         1  5.830952   12     260\n",
       "456     6         0  5.656854   10     275\n",
       "\n",
       "[439 rows x 5 columns]"
      ]
     },
     "execution_count": 128,
     "metadata": {},
     "output_type": "execute_result"
    }
   ],
   "source": [
    "x"
   ]
  },
  {
   "cell_type": "code",
   "execution_count": 129,
   "metadata": {},
   "outputs": [
    {
     "data": {
      "text/plain": [
       "0       2250000.0\n",
       "1       4171680.0\n",
       "2        525093.0\n",
       "3       1938840.0\n",
       "4      12000000.0\n",
       "          ...    \n",
       "451      947276.0\n",
       "452    10449438.0\n",
       "454     2148360.0\n",
       "455     9638555.0\n",
       "456     5200000.0\n",
       "Name: Salary, Length: 439, dtype: float64"
      ]
     },
     "execution_count": 129,
     "metadata": {},
     "output_type": "execute_result"
    }
   ],
   "source": [
    "y"
   ]
  },
  {
   "cell_type": "code",
   "execution_count": 130,
   "metadata": {},
   "outputs": [],
   "source": [
    "def test_model(model):\n",
    "    max_r_score = 0\n",
    "\n",
    "    for r_state in range(42,101):\n",
    "        train_x, test_x, train_y, test_y = train_test_split(x, y, test_size=0.2, random_state=r_state)\n",
    "        model.fit(train_x,train_y)\n",
    "        pred = model.predict(test_x)\n",
    "        r2_scr  = r2_score(test_y,pred)\n",
    "        if r2_scr > max_r_score:\n",
    "            max_r_score = r2_scr\n",
    "            final_r_state = r_state\n",
    "\n",
    "    print(\"Max r2 score corresponding to \", final_r_state, ' is ', max_r_score)\n",
    "    print(\"Score at \", final_r_state, ' is ', model.score(train_x,train_y))"
   ]
  },
  {
   "cell_type": "markdown",
   "metadata": {},
   "source": [
    "#### Linear Regression"
   ]
  },
  {
   "cell_type": "code",
   "execution_count": 131,
   "metadata": {},
   "outputs": [
    {
     "name": "stdout",
     "output_type": "stream",
     "text": [
      "Max r2 score corresponding to  64  is  0.08045366962845357\n",
      "Score at  64  is  0.0417348052275619\n"
     ]
    }
   ],
   "source": [
    "lm  = LR() \n",
    "\n",
    "test_model(lm)"
   ]
  },
  {
   "cell_type": "markdown",
   "metadata": {},
   "source": [
    "#### KNR"
   ]
  },
  {
   "cell_type": "code",
   "execution_count": 132,
   "metadata": {},
   "outputs": [
    {
     "data": {
      "text/plain": [
       "{'n_neighbors': 29}"
      ]
     },
     "execution_count": 132,
     "metadata": {},
     "output_type": "execute_result"
    }
   ],
   "source": [
    "from sklearn.neighbors import KNeighborsRegressor as KNR\n",
    "from sklearn.model_selection import GridSearchCV\n",
    "\n",
    "neighbors = {\"n_neighbors\":range(1,30)}\n",
    "knr = KNR()\n",
    "gknn = GridSearchCV(knr,neighbors,cv=10)\n",
    "gknn.fit(x,y)\n",
    "gknn.best_params_"
   ]
  },
  {
   "cell_type": "code",
   "execution_count": 149,
   "metadata": {},
   "outputs": [
    {
     "name": "stdout",
     "output_type": "stream",
     "text": [
      "Max r2 score corresponding to  43  is  0.05385105340227958\n",
      "Score at  43  is  0.06388952799865744\n"
     ]
    }
   ],
   "source": [
    "knr = KNR(n_neighbors=29)\n",
    "test_model(knr)"
   ]
  },
  {
   "cell_type": "markdown",
   "metadata": {},
   "source": [
    "### CROSS VAL"
   ]
  },
  {
   "cell_type": "code",
   "execution_count": 150,
   "metadata": {},
   "outputs": [],
   "source": [
    "def cross_val_test(model):\n",
    "    score = cross_val_score(model,x,y,cv=5)\n",
    "    print('Score: ', score)\n",
    "\n",
    "    print('Mean Scores: ',score.mean())\n",
    "    print('Standard deviation: ',score.std())\n",
    "\n",
    "    #y_pred = cross_val_predict(model,x,y,cv=5)\n",
    "\n",
    "    #print('Y Prediction values: ')\n",
    "    #print(y_pred)\n",
    "\n",
    "    #conf_mat = confusion_matrix(y,y_pred)\n",
    "    #conf_mat"
   ]
  },
  {
   "cell_type": "markdown",
   "metadata": {},
   "source": [
    "### LOGISTIC REGRESSION"
   ]
  },
  {
   "cell_type": "code",
   "execution_count": 151,
   "metadata": {
    "scrolled": true
   },
   "outputs": [
    {
     "name": "stdout",
     "output_type": "stream",
     "text": [
      "Score:  [ 0.00401165 -0.00984294  0.00462308 -0.01101853  0.07556951]\n",
      "Mean Scores:  0.012668554868148395\n",
      "Standard deviation:  0.03213735211960999\n"
     ]
    }
   ],
   "source": [
    "lr = LR()\n",
    "cross_val_test(lr)"
   ]
  },
  {
   "cell_type": "markdown",
   "metadata": {},
   "source": [
    "### KNR"
   ]
  },
  {
   "cell_type": "code",
   "execution_count": 152,
   "metadata": {},
   "outputs": [
    {
     "data": {
      "text/plain": [
       "{'n_neighbors': 29}"
      ]
     },
     "execution_count": 152,
     "metadata": {},
     "output_type": "execute_result"
    }
   ],
   "source": [
    "neighbors = {\"n_neighbors\":range(1,30)}\n",
    "knr = KNR()\n",
    "gknn = GridSearchCV(knr,neighbors,cv=10)\n",
    "gknn.fit(x,y)\n",
    "gknn.best_params_"
   ]
  },
  {
   "cell_type": "code",
   "execution_count": 153,
   "metadata": {
    "scrolled": true
   },
   "outputs": [
    {
     "name": "stdout",
     "output_type": "stream",
     "text": [
      "Score:  [-0.17592264 -0.0984272  -0.33378582 -0.47796914  0.05979438]\n",
      "Mean Scores:  -0.2052620851437716\n",
      "Standard deviation:  0.1862347539886474\n"
     ]
    }
   ],
   "source": [
    "knr = KNR(n_neighbors=4)\n",
    "\n",
    "cross_val_test(knr)"
   ]
  },
  {
   "cell_type": "markdown",
   "metadata": {},
   "source": [
    "From the above observation we can say that KNR is giving best score."
   ]
  },
  {
   "cell_type": "code",
   "execution_count": 158,
   "metadata": {},
   "outputs": [
    {
     "name": "stdout",
     "output_type": "stream",
     "text": [
      "Max r2 score corresponding to  43  is  0.05385105340227958\n",
      "Score at  43  is  0.06388952799865744\n"
     ]
    }
   ],
   "source": [
    "knr = KNR(n_neighbors=29)\n",
    "test_model(knr)"
   ]
  },
  {
   "cell_type": "markdown",
   "metadata": {},
   "source": [
    "### SAVE MODEL"
   ]
  },
  {
   "cell_type": "code",
   "execution_count": 160,
   "metadata": {},
   "outputs": [
    {
     "data": {
      "text/plain": [
       "['salary_prediction.pkl']"
      ]
     },
     "execution_count": 160,
     "metadata": {},
     "output_type": "execute_result"
    }
   ],
   "source": [
    "from sklearn.externals import joblib\n",
    "\n",
    "joblib.dump(knr,'salary_prediction.pkl')"
   ]
  },
  {
   "cell_type": "code",
   "execution_count": null,
   "metadata": {},
   "outputs": [],
   "source": []
  }
 ],
 "metadata": {
  "kernelspec": {
   "display_name": "Python 3",
   "language": "python",
   "name": "python3"
  },
  "language_info": {
   "codemirror_mode": {
    "name": "ipython",
    "version": 3
   },
   "file_extension": ".py",
   "mimetype": "text/x-python",
   "name": "python",
   "nbconvert_exporter": "python",
   "pygments_lexer": "ipython3",
   "version": "3.7.4"
  }
 },
 "nbformat": 4,
 "nbformat_minor": 2
}
